{
 "cells": [
  {
   "cell_type": "code",
   "execution_count": 5,
   "id": "aaf302e6-7d63-4534-b42f-9afda478d844",
   "metadata": {
    "tags": []
   },
   "outputs": [],
   "source": [
    "# for making cif_path_list\n",
    "import re\n",
    "import time\n",
    "import itertools\n",
    "import subprocess\n",
    "from tqdm import tqdm\n",
    "from pathlib import Path\n",
    "from multiprocessing import Pool, cpu_count\n",
    "\n",
    "import numpy as np\n",
    "\n",
    "\n",
    "def iterdir_func(poscar_dir):\n",
    "    return list(poscar_dir.iterdir())\n",
    "\n",
    "\n",
    "def flatten_func(list_2dim):\n",
    "    return list(itertools.chain.from_iterable(list_2dim))\n",
    "\n",
    "\n",
    "def get_subdir_list(dir_list):\n",
    "    return flatten_func(list(map(iterdir_func, dir_list)))"
   ]
  },
  {
   "cell_type": "code",
   "execution_count": 26,
   "id": "f1e16900-8f7c-42c5-913a-466604c4112f",
   "metadata": {
    "tags": []
   },
   "outputs": [
    {
     "name": "stdout",
     "output_type": "stream",
     "text": [
      "len(cif_file_path_list): 507142\n",
      "len(poscar_folder_path_list): 507142\n"
     ]
    }
   ],
   "source": [
    "p = Path('/mnt/ssd_elecom_black_c2c_480G/cif/')\n",
    "p_s_list = [p_sub_folder for p_sub_folder in p.glob('[1-9]')]\n",
    "p_ssss_list = get_subdir_list(get_subdir_list(get_subdir_list(p_s_list)))\n",
    "\n",
    "\n",
    "def cif_file_filter(path):\n",
    "    pattern = '.+\\.cif$'\n",
    "    string = str(path)\n",
    "    return bool(re.search(pattern, string))\n",
    "\n",
    "\n",
    "# make cif_file_filter\n",
    "cif_file_path_list_filter = list(map(cif_file_filter, p_ssss_list))\n",
    "# apply cif_file_filter to p_ssss_list\n",
    "cif_file_path_list = np.array(p_ssss_list)[cif_file_path_list_filter]\n",
    "print(f'len(cif_file_path_list): {len(cif_file_path_list)}')\n",
    "\n",
    "\n",
    "def poscar_folder_filter(path):\n",
    "    pattern = '[0-9]{6}$'  # 正規表現（：末尾が数字６文字で終わる）\n",
    "    string = str(path)\n",
    "    return bool(re.search(pattern, string))\n",
    "\n",
    "\n",
    "# make filter\n",
    "poscar_folder_path_list_filter = list(map(poscar_folder_filter, p_ssss_list))\n",
    "# apply poscar_folder_filter to p_ssss_list\n",
    "poscar_folder_path_list = np.array(p_ssss_list)[poscar_folder_path_list_filter]\n",
    "print(f'len(poscar_folder_path_list): {len(poscar_folder_path_list)}')"
   ]
  },
  {
   "cell_type": "code",
   "execution_count": 42,
   "id": "15ca70a2-1c77-4d1a-9474-2e28a02146ef",
   "metadata": {
    "tags": []
   },
   "outputs": [],
   "source": [
    "cif_file_path_str_list = [str(p_cif) for p_cif in cif_file_path_list]\n",
    "poscar_file_path_str_list = [str(p_folder) + '/POSCAR' for p_folder in poscar_folder_path_list]\n",
    "poscar_folder_path_str_list = [str(p_folder) for p_folder in poscar_folder_path_list]"
   ]
  },
  {
   "cell_type": "code",
   "execution_count": 66,
   "id": "0dbed796-b690-4e4d-a8af-3b2101483848",
   "metadata": {
    "tags": []
   },
   "outputs": [],
   "source": [
    "params = list(zip(cif_file_path_str_list, poscar_file_path_str_list, poscar_folder_path_str_list))"
   ]
  },
  {
   "cell_type": "code",
   "execution_count": 73,
   "id": "cb2529d9-4488-48a0-9c83-177eaf14d522",
   "metadata": {
    "tags": []
   },
   "outputs": [],
   "source": [
    "def cif2cell(cif_path, poscar_path, poscar_folder):\n",
    "    with open(poscar_folder + '/cif2cell_log.txt', mode='w') as f:\n",
    "        cp = subprocess.run(['cif2cell', cif_path, '-p', 'vasp', '-o', poscar_path, '--vasp-format=5'],\n",
    "                       stdout=subprocess.PIPE, \n",
    "                       stderr=subprocess.STDOUT,)\n",
    "        print(cp.stdout, file=f)\n",
    "        \n",
    "\n",
    "def wrap_cif2cell(args):\n",
    "    return cif2cell(*args)"
   ]
  },
  {
   "cell_type": "code",
   "execution_count": 74,
   "id": "7d89b7e3-2ed8-4fa5-8fe6-f04dc75afade",
   "metadata": {
    "tags": []
   },
   "outputs": [
    {
     "name": "stdout",
     "output_type": "stream",
     "text": [
      "Now converting cif to POSCAR by cif2cell!!!\n"
     ]
    },
    {
     "name": "stderr",
     "output_type": "stream",
     "text": [
      "  0%|                                                                                                                 | 10/507142 [00:01<27:57:31,  5.04it/s]"
     ]
    },
    {
     "name": "stdout",
     "output_type": "stream",
     "text": [
      "it took 2.053690195083618sec to run cif2cell all files.\n"
     ]
    },
    {
     "name": "stderr",
     "output_type": "stream",
     "text": [
      "\n"
     ]
    }
   ],
   "source": [
    "before = time.time()\n",
    "try:\n",
    "    p = Pool(cpu_count() - 1)\n",
    "    print(f\"Now converting cif to POSCAR by cif2cell!!!\")\n",
    "    list(tqdm(p.imap(wrap_cif2cell, params[0:10]), total=len(params)))\n",
    "finally:\n",
    "    p.close()\n",
    "    p.join()\n",
    "after = time.time()\n",
    "print(f\"it took {after - before}sec to run cif2cell all files.\")"
   ]
  }
 ],
 "metadata": {
  "kernelspec": {
   "display_name": "Python 3 (ipykernel)",
   "language": "python",
   "name": "python3"
  },
  "language_info": {
   "codemirror_mode": {
    "name": "ipython",
    "version": 3
   },
   "file_extension": ".py",
   "mimetype": "text/x-python",
   "name": "python",
   "nbconvert_exporter": "python",
   "pygments_lexer": "ipython3",
   "version": "3.10.12"
  }
 },
 "nbformat": 4,
 "nbformat_minor": 5
}
