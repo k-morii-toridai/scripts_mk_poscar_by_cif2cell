{
 "cells": [
  {
   "cell_type": "code",
   "execution_count": 3,
   "id": "c1f4f7a0-8b39-4241-8429-e92e9448b1b2",
   "metadata": {
    "tags": []
   },
   "outputs": [],
   "source": [
    "import os\n",
    "import itertools\n",
    "from tqdm import tqdm\n",
    "from pathlib import Path\n",
    "from multiprocessing import Pool, cpu_count\n",
    "\n",
    "import numpy as np"
   ]
  },
  {
   "cell_type": "code",
   "execution_count": 4,
   "id": "0aac3152-8d94-40b6-becd-dd824b1854b7",
   "metadata": {
    "tags": []
   },
   "outputs": [],
   "source": [
    "def iterdir_func(poscar_dir):\n",
    "    return list(poscar_dir.iterdir())\n",
    "\n",
    "\n",
    "def flatten_func(list_2dim):\n",
    "    return list(itertools.chain.from_iterable(list_2dim))\n",
    "\n",
    "\n",
    "def get_subdir_list(dir_list):\n",
    "    return flatten_func(list(map(iterdir_func, dir_list)))"
   ]
  },
  {
   "cell_type": "code",
   "execution_count": null,
   "id": "a4353030-da45-4bab-9025-d3613fe314fe",
   "metadata": {},
   "outputs": [],
   "source": [
    "p = Path('/mnt/ssd_elecom_black_c2c_480G/cif/')\n",
    "p_s_list = [p_sub_folder for p_sub_folder in p.glob('[1-9]')]\n",
    "p_ssss_list = get_subdir_list(get_subdir_list(get_subdir_list(p_s_list)))"
   ]
  },
  {
   "cell_type": "code",
   "execution_count": null,
   "id": "dfe67347-b274-4abc-9e03-e9405ad6c65e",
   "metadata": {},
   "outputs": [],
   "source": [
    "cif_num_name_list = [str(cif_p)[:-4] for cif_p in p_ssss_list]"
   ]
  },
  {
   "cell_type": "code",
   "execution_count": null,
   "id": "23912683-a535-4a69-8d0c-c30866433689",
   "metadata": {},
   "outputs": [],
   "source": [
    "# 並列化して，cifファイル名のフォルダを作成\n",
    "try:\n",
    "    pp = Pool(cpu_count() - 1)\n",
    "    # iterdir\n",
    "    list(tqdm(pp.imap(os.makedirs, cif_num_name_list), total=len(cif_num_name_list)))\n",
    "finally:\n",
    "    pp.close()\n",
    "    pp.join()"
   ]
  },
  {
   "cell_type": "code",
   "execution_count": null,
   "id": "9b2d0748-667e-47d7-8af9-ad79d8c3621b",
   "metadata": {},
   "outputs": [],
   "source": []
  }
 ],
 "metadata": {
  "kernelspec": {
   "display_name": "Python 3 (ipykernel)",
   "language": "python",
   "name": "python3"
  },
  "language_info": {
   "codemirror_mode": {
    "name": "ipython",
    "version": 3
   },
   "file_extension": ".py",
   "mimetype": "text/x-python",
   "name": "python",
   "nbconvert_exporter": "python",
   "pygments_lexer": "ipython3",
   "version": "3.10.12"
  }
 },
 "nbformat": 4,
 "nbformat_minor": 5
}
